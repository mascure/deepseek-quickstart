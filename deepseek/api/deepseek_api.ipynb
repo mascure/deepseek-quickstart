{
 "cells": [
  {
   "cell_type": "code",
   "execution_count": 2,
   "id": "44d78779-a4ae-4ad1-be13-f7a9aae648a8",
   "metadata": {},
   "outputs": [
    {
     "name": "stdout",
     "output_type": "stream",
     "text": [
      "Collecting openai==1.82.0\n",
      "  Using cached openai-1.82.0-py3-none-any.whl.metadata (25 kB)\n",
      "Requirement already satisfied: anyio<5,>=3.5.0 in /Users/wangzhenjie01/miniconda3/lib/python3.13/site-packages (from openai==1.82.0) (4.10.0)\n",
      "Requirement already satisfied: distro<2,>=1.7.0 in /Users/wangzhenjie01/miniconda3/lib/python3.13/site-packages (from openai==1.82.0) (1.9.0)\n",
      "Requirement already satisfied: httpx<1,>=0.23.0 in /Users/wangzhenjie01/miniconda3/lib/python3.13/site-packages (from openai==1.82.0) (0.28.1)\n",
      "Collecting jiter<1,>=0.4.0 (from openai==1.82.0)\n",
      "  Using cached jiter-0.10.0-cp313-cp313-macosx_11_0_arm64.whl.metadata (5.2 kB)\n",
      "Requirement already satisfied: pydantic<3,>=1.9.0 in /Users/wangzhenjie01/miniconda3/lib/python3.13/site-packages (from openai==1.82.0) (2.11.7)\n",
      "Requirement already satisfied: sniffio in /Users/wangzhenjie01/miniconda3/lib/python3.13/site-packages (from openai==1.82.0) (1.3.1)\n",
      "Requirement already satisfied: tqdm>4 in /Users/wangzhenjie01/miniconda3/lib/python3.13/site-packages (from openai==1.82.0) (4.67.1)\n",
      "Requirement already satisfied: typing-extensions<5,>=4.11 in /Users/wangzhenjie01/miniconda3/lib/python3.13/site-packages (from openai==1.82.0) (4.12.2)\n",
      "Requirement already satisfied: idna>=2.8 in /Users/wangzhenjie01/miniconda3/lib/python3.13/site-packages (from anyio<5,>=3.5.0->openai==1.82.0) (3.7)\n",
      "Requirement already satisfied: certifi in /Users/wangzhenjie01/miniconda3/lib/python3.13/site-packages (from httpx<1,>=0.23.0->openai==1.82.0) (2025.8.3)\n",
      "Requirement already satisfied: httpcore==1.* in /Users/wangzhenjie01/miniconda3/lib/python3.13/site-packages (from httpx<1,>=0.23.0->openai==1.82.0) (1.0.9)\n",
      "Requirement already satisfied: h11>=0.16 in /Users/wangzhenjie01/miniconda3/lib/python3.13/site-packages (from httpcore==1.*->httpx<1,>=0.23.0->openai==1.82.0) (0.16.0)\n",
      "Requirement already satisfied: annotated-types>=0.6.0 in /Users/wangzhenjie01/miniconda3/lib/python3.13/site-packages (from pydantic<3,>=1.9.0->openai==1.82.0) (0.6.0)\n",
      "Requirement already satisfied: pydantic-core==2.33.2 in /Users/wangzhenjie01/miniconda3/lib/python3.13/site-packages (from pydantic<3,>=1.9.0->openai==1.82.0) (2.33.2)\n",
      "Requirement already satisfied: typing-inspection>=0.4.0 in /Users/wangzhenjie01/miniconda3/lib/python3.13/site-packages (from pydantic<3,>=1.9.0->openai==1.82.0) (0.4.0)\n",
      "Using cached openai-1.82.0-py3-none-any.whl (720 kB)\n",
      "Using cached jiter-0.10.0-cp313-cp313-macosx_11_0_arm64.whl (318 kB)\n",
      "Installing collected packages: jiter, openai\n",
      "\u001b[2K   \u001b[90m━━━━━━━━━━━━━━━━━━━━━━━━━━━━━━━━━━━━━━━━\u001b[0m \u001b[32m2/2\u001b[0m [openai]2m1/2\u001b[0m [openai]\n",
      "\u001b[1A\u001b[2KSuccessfully installed jiter-0.10.0 openai-1.82.0\n"
     ]
    }
   ],
   "source": [
    "!pip install openai==1.82.0"
   ]
  },
  {
   "cell_type": "code",
   "execution_count": 7,
   "id": "dbb29b9b-f322-479f-9916-4bcf0e38f086",
   "metadata": {},
   "outputs": [
    {
     "name": "stdout",
     "output_type": "stream",
     "text": [
      "Python 3.13.5\n"
     ]
    }
   ],
   "source": [
    "!python --version"
   ]
  },
  {
   "cell_type": "code",
   "execution_count": 1,
   "id": "786a3e63-9e15-4184-9b53-7ea03fea979f",
   "metadata": {},
   "outputs": [
    {
     "name": "stdout",
     "output_type": "stream",
     "text": [
      "/Users/wangzhenjie01/miniconda3/bin/python\n",
      "3.13.5 | packaged by Anaconda, Inc. | (main, Jun 12 2025, 11:23:37) [Clang 14.0.6 ]\n",
      "hello111\n"
     ]
    }
   ],
   "source": [
    "import sys\n",
    "print(sys.executable)\n",
    "print(sys.version)\n",
    "print('hello111')"
   ]
  },
  {
   "cell_type": "code",
   "execution_count": 2,
   "id": "14dc02a3-4736-45f7-a2da-1978123fac95",
   "metadata": {},
   "outputs": [
    {
     "name": "stdout",
     "output_type": "stream",
     "text": [
      "success\n"
     ]
    }
   ],
   "source": [
    "import os\n",
    "from openai import OpenAI\n",
    "\n",
    "# 从环境变量获取 DeepSeek API Key\n",
    "api_key = os.getenv(\"DEEPSEEK_API_KEY\")\n",
    "if not api_key:\n",
    "    raise ValueError(\"请设置 DEEPSEEK_API_KEY 环境变量\")\n",
    "\n",
    "# 初始化 OpenAI 客户端（假设 DeepSeek 的 API 兼容 OpenAI 格式）\n",
    "client = OpenAI(\n",
    "    api_key=api_key,\n",
    "    base_url=\"https://api.deepseek.com/v1\",  # DeepSeek API 的基地址\n",
    ")\n",
    "\n",
    "# 定义提示词\n",
    "prompt = \"\"\"请帮我用 HTML 生成一个五子棋游戏，所有代码都保存在一个 HTML 中。\"\"\"\n",
    "print('success')"
   ]
  },
  {
   "cell_type": "code",
   "execution_count": null,
   "id": "428f7ead-142c-4f5c-a57b-d9194b51d725",
   "metadata": {},
   "outputs": [],
   "source": [
    "try:\n",
    "    # 调用 DeepSeek Chat API\n",
    "    response = client.chat.completions.create(\n",
    "        model=\"deepseek-chat\",  # 或 DeepSeek 提供的其他模型名称\n",
    "        messages=[\n",
    "            {\"role\": \"system\", \"content\": \"你是一个专业的 Web 开发助手，擅长用 HTML/CSS/JavaScript 编写游戏。\"},\n",
    "            {\"role\": \"user\", \"content\": prompt}\n",
    "        ],\n",
    "        temperature=0.7,\n",
    "        stream=False\n",
    "    )\n",
    "\n",
    "    # 提取生成的 HTML 内容\n",
    "    if response.choices and len(response.choices) > 0:\n",
    "        html_content = response.choices[0].message.content\n",
    "        \n",
    "        # 保存到文件\n",
    "        with open(\"gomoku.html\", \"w\", encoding=\"utf-8\") as f:\n",
    "            f.write(html_content)\n",
    "        print(\"五子棋游戏已保存为 gomoku.html\")\n",
    "    else:\n",
    "        print(\"未收到有效响应\")\n",
    "\n",
    "except Exception as e:\n",
    "    print(f\"调用 API 出错: {e}\")"
   ]
  },
  {
   "cell_type": "code",
   "execution_count": null,
   "id": "bb3d6930-b67e-4551-8c35-1096c3710e13",
   "metadata": {},
   "outputs": [],
   "source": []
  }
 ],
 "metadata": {
  "kernelspec": {
   "display_name": "Python 3.13",
   "language": "python",
   "name": "py313"
  },
  "language_info": {
   "codemirror_mode": {
    "name": "ipython",
    "version": 3
   },
   "file_extension": ".py",
   "mimetype": "text/x-python",
   "name": "python",
   "nbconvert_exporter": "python",
   "pygments_lexer": "ipython3",
   "version": "3.13.5"
  }
 },
 "nbformat": 4,
 "nbformat_minor": 5
}
